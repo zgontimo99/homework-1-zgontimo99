{
 "cells": [
  {
   "cell_type": "markdown",
   "metadata": {},
   "source": [
    "# Homework 1 - ORF finding: how many genes are in the SARS-Cov-2 genome?\n",
    "\n",
    "Severe acute respiratory syndrome coronavirus 2 (SARS-CoV-2) is a strain of coronavirus that causes COVID-19. Throughout these homework assignments, we will analyze this virus and try to understand its origins and inner workings. We will implement the necessary bioinformatics tools and apply them to further our understanding of this pesky little virus.\n",
    "\n",
    "First, we will analyze the main component of every organism - its genetic material. Our focus will be on the genes, parts of the genetic material that code for proteins. Proteins are the main macromolecular actors in every organism.\n",
    "\n",
    "**Why are we so interested in genes?**\n",
    "\n",
    "Genes dictate the behavior of an organism, such as replication, viral assembly, and even innate immune evasion. If we compare the genes from this new virus with genes from other known viruses, we can get a good idea of how this virus works and maybe even how to stop it. When these genes are translated into proteins, they start acting out their function. Some proteins can attach to human cells and allow viruses to enter them. If we can figure out which genes these are, they will make good candidates for drug targets.\n",
    "\n",
    "We can find potential genes in a genome by looking for common patterns shared across all genes. However, validating that these potential candidates are, in fact, real genes requires experimental confirmation.\n",
    "\n",
    "**The aim of this homework**\n",
    "\n",
    "In this homework, our goal is to find potential genes in the SARS-CoV-2 genome and take a first stab at figuring out what their corresponding proteins do. When looking for genes in an unknown genome, we consider all the Open Reading Frames (ORFs) as potential gene candidates. However, many of our ORFs will not be true genes, and since each ORF must be experimentally validated in the lab, we will try to reduce the number of ORFs only to include the most likely gene candidates. We heard in lectures that one approach for filtering ORFs is to perform a permutation test to determine a threshold indicating the minimum length of ORFs. This will reduce the number of false positives that we generate. So, our approach might be to first find the ORFs, remove ORFs that are likely too short, and then determine what each ORF might do.\n",
    "\n",
    "However, before we jump right into the SARS-CoV-2 genome, we first want to convince ourselves that this is, in fact, a reasonable approach that produces good results. Since we are going to pretend that SARS-CoV-2 is an unknown virus, we can't check our results to see if they are correct. So instead, we will validate our approach on one of the most well-understood organisms in existence: _E. Coli_. Here, we will be able to check how many of our ORFs are true genes and how well our threshold selection method actually works.\n",
    "\n",
    "Once we've convinced ourselves that this is, in fact, a good approach, we will start exploring the SARS-CoV-2 genome. Finally, once we have found and filtered our coronavirus ORFs, we will implement a simple classification technique to determine the function of their corresponding proteins. We will explore computational techniques for determining protein function in the next homework.\n"
   ]
  },
  {
   "cell_type": "code",
   "execution_count": 3,
   "metadata": {},
   "outputs": [],
   "source": [
    "import os\n",
    "from Bio import Entrez\n",
    "from Bio import SeqIO"
   ]
  },
  {
   "cell_type": "markdown",
   "metadata": {},
   "source": [
    "Let's let the nice folks at NCBI know who we are."
   ]
  },
  {
   "cell_type": "code",
   "execution_count": 2,
   "metadata": {},
   "outputs": [],
   "source": [
    "Entrez.email = \"<tz36793>@student.uni-lj.si\""
   ]
  },
  {
   "cell_type": "code",
   "execution_count": 4,
   "metadata": {},
   "outputs": [],
   "source": [
    "# In order to import from the `helper_functions` python file without hassle, we add the current\n",
    "# directory to the python path\n",
    "import sys; sys.path.append('.')"
   ]
  },
  {
   "cell_type": "markdown",
   "metadata": {},
   "source": [
    "## _Escherichia coli_"
   ]
  },
  {
   "cell_type": "markdown",
   "metadata": {},
   "source": [
    "\n",
    "[_Escherichia coli_](https://en.wikipedia.org/wiki/Escherichia_coli) (_E. Coli_) is a bacteria commonly found in the human intestine. Most strains are harmless to humans, at worse, causing food poisoning and diarrhea. They can survive outside a host for only a short period of time, making it a potential indicator of fecal contamination.\n",
    "\n",
    "![](https://thumbs.gfycat.com/FatSmoggyAztecant-size_restricted.gif)\n",
    "\n",
    "Over the years, _E. Coli_ has been intensely studied and is probably one of the most well-understood organisms in existence. We've learned how to grow them in an optimal environment where they can reproduce up to once every 20 minutes. Due to their rapid growth and easy manipulation, biologists often use them to produce recombinant proteins.\n",
    "\n",
    "![](https://upload.wikimedia.org/wikipedia/commons/4/40/E.coli-colony-growth.gif)\n",
    "\n",
    "Recombinant proteins are proteins that wouldn't naturally appear in that organism. For instance, we can insert genes that code for fluorescence into plants, making them glow in the dark. Or, perhaps more usefully, we can take the human gene that codes for insulin and convince _E. Coli_ to produce insulin instead. Insulin that we can then use to treat diabetic patients. Or proteins used in cancer treatment. Or, more recently, we can insert fragments of the SARS-CoV-2 virus into _E. Coli_ and use that to produce COVID-19 vaccines.\n",
    "\n",
    "![](https://static.dezeen.com/uploads/2014/01/American-firm-genetically-engineers-worlds-first-glow-in-the-dark-plant-_dezeen_4.jpg)\n",
    "\n",
    "_E. coli_ is a very well-studied organism, therefore, well-annotated. This means we can quickly check our work for any analysis we might perform because we have the ground truth, which biologists have spent decades meticulously gathering for us. We will examine the DNA sequence of _E. coli_ and implement an algorithm for finding potential gene candidates. Because the ground truth is readily available, we can check how many of our ORF candidates are actual genes and how many candidates are false positives."
   ]
  },
  {
   "cell_type": "markdown",
   "metadata": {},
   "source": [
    "Every organism in NCBI has an associated unique identifier, which we can use to download various genomes and other kinds of data. The NCBI ID for _E. coli_ is _NC_000913_."
   ]
  },
  {
   "cell_type": "code",
   "execution_count": 4,
   "metadata": {},
   "outputs": [],
   "source": [
    "organism_id = \"NC_000913\"  # E. coli"
   ]
  },
  {
   "cell_type": "code",
   "execution_count": 5,
   "metadata": {},
   "outputs": [],
   "source": [
    "filename = \"NC_000913.gbk\""
   ]
  },
  {
   "cell_type": "markdown",
   "metadata": {},
   "source": [
    "Fetch the _E. coli_ genome from NCBI. To check you have the right one, the genome should be 4,641,652 base pairs long. It might take up-to a minute to download.\n",
    "\n",
    "_Hint_: Use the `Entrez.efetch` (http://biopython.org/DIST/docs/tutorial/Tutorial.html#sec149) and `SeqIO.read` (http://biopython.org/DIST/docs/tutorial/Tutorial.html#sec37) functions from biopython.\n",
    "Use `rettype=\"gbwithparts\"` to fetch all required features."
   ]
  },
  {
   "cell_type": "code",
   "execution_count": 4,
   "metadata": {},
   "outputs": [],
   "source": [
    "if not os.path.isfile(filename):\n",
    "    # Downloading...\n",
    "    net_handle = Entrez.efetch(\n",
    "        db=\"nucleotide\", id=\"NC_000913\", rettype=\"gbwithparts\", retmode=\"text\"\n",
    "    )\n",
    "    out_handle = open(filename, \"w\")\n",
    "    out_handle.write(net_handle.read())\n",
    "    out_handle.close()\n",
    "    net_handle.close()"
   ]
  },
  {
   "cell_type": "code",
   "execution_count": 6,
   "metadata": {},
   "outputs": [
    {
     "data": {
      "text/plain": [
       "Seq('AGCTTTTCATTCTGACTGCAACGGGCAATATGTCTCTGTGTGGATTAAAAAAAG...TTC')"
      ]
     },
     "execution_count": 6,
     "metadata": {},
     "output_type": "execute_result"
    }
   ],
   "source": [
    "record = SeqIO.read(filename, \"genbank\")\n",
    "record.seq"
   ]
  },
  {
   "cell_type": "markdown",
   "metadata": {},
   "source": [
    "## Problem 1: Finding gene candidates\n",
    "\n",
    "Before we get started, we need to implement an algorithm for finding all open reading frames (ORFs) in a given genome. We define an ORF as the longest contiguous sequence of triplets (codons) between a start and a stop codon. For instance, TTATGAAAATGAAATGATT contains one ORF -- ATGAAAATGAAATGA spanning from locations 2 to 17.\n",
    "\n",
    "**TASK:**\n",
    "Implement the `find_orfs` and `find_all_orfs` functions in `helper_functions.py`. Function `find_orfs` should find ORFs for a single offset e.g. [ATGTAATGTTGATTA]TG, ignoring the final TG. `find_all_orfs` should use `find_orfs` to find _all_ the ORFs in a sequence, i.e. [ATGTAATGTTGATTA]TG, A[TGTAATGTTGATTAT]G, AT[GTAATGTTGATTATG], as well as the ORFs on the reverse complements. See the docstrings for expected return types.\n",
    "\n",
    "Returned ORFs should of the form (strand, start_loc, stop_loc). Strand should be either 1 for reference strand and -1 for reverse complement. We consider stop codons as part of an ORFs. Note that the stop_loc marks the last nucleotide IN the stop codon of an ORF.\n",
    "\n",
    "**[10 points]**\n",
    "\n",
    "_Hint_: You can check your implementation on the _E. Coli_ genome, where the number of ORFs on the positive and negative strands should be roughly equal."
   ]
  },
  {
   "cell_type": "code",
   "execution_count": 7,
   "metadata": {},
   "outputs": [],
   "source": [
    "start_codons = [\"ATG\"]\n",
    "stop_codons = [\"TGA\", \"TAA\", \"TAG\"]"
   ]
  },
  {
   "cell_type": "code",
   "execution_count": 8,
   "metadata": {},
   "outputs": [],
   "source": [
    "from helper_functions import find_all_orfs"
   ]
  },
  {
   "cell_type": "code",
   "execution_count": 9,
   "metadata": {},
   "outputs": [],
   "source": [
    "ecoliorfs=find_all_orfs(record.seq,start_codons,stop_codons)"
   ]
  },
  {
   "cell_type": "markdown",
   "metadata": {},
   "source": [
    "## Problem 2: Finding true genes\n",
    "\n",
    "Having implemented our ORF finder, we can now apply it to the _E. Coli_ genome to find the ORFs, i.e., gene candidates. You will see that there are quite a large number of these. Some of them might be actual genes, and some may not. In practice, biologists will often look through each gene candidate manually to determine if it is a gene or not. We want to help them by reducing the number of ORFs they'll have to look through. One way to reduce this number is to set a threshold for our ORF lengths. As you saw in lectures, we can determine a sensible threshold using a permutation test.\n",
    "\n",
    "**TASK:**\n",
    "\n",
    "**a)** Find all the ORFs in the _E. Coli_ genome. Determine a reasonable threshold for filtering short ORFs using a permutation test with 100 repetitions such that we keep only sequences with $p < 0.01$. Plot a histogram of the distribution of ORF lengths in these random sequences using the log scale for the y-axis. Overlay the histogram with the ORF lengths you found using your ORF finder. Clearly indicate the permutation test threshold on your plot. Save your threshold into the `bacteria_threshold` variable and save your plot into `problem2-permutation.png`. All ORF lengths and thresholds should be reported **in codons**.\n",
    "\n",
    "**[5 points]**\n",
    "\n",
    "Note that the _E. coli_ permutation test might run up to an hour on some computers. In bioinformatics, it is very common to have to wait a long time for results to compute since we generally deal with large amounts of data. Efficient implementations and caching can help a great deal.\n",
    "\n",
    "_Hint_: For plotting, you can use the [`hist`](https://matplotlib.org/stable/api/_as_gen/matplotlib.pyplot.hist.html) function from [matplotlib](https://matplotlib.org/stable/index.html)."
   ]
  },
  {
   "cell_type": "code",
   "execution_count": 10,
   "metadata": {},
   "outputs": [],
   "source": [
    "start_codons = [\"ATG\"]\n",
    "stop_codons = [\"TGA\", \"TAA\", \"TAG\"]\n",
    "from Bio.Seq import MutableSeq\n",
    "from random import sample, shuffle\n",
    "from Bio.Seq import Seq\n",
    "import numpy as np\n",
    "import matplotlib.pyplot as plt\n",
    "from statistics import quantiles"
   ]
  },
  {
   "cell_type": "code",
   "execution_count": null,
   "metadata": {},
   "outputs": [],
   "source": [
    "rd=MutableSeq(record.seq)\n",
    "randorfs=[]\n",
    "x1=[]\n",
    "x2=[]\n",
    "for i in range (0,100):\n",
    "    shuffle(rd)\n",
    "    randorfs.append(find_all_orfs(rd,start_codons,stop_codons))\n",
    "for permutation in randorfs:\n",
    "    for orframe in permutation:\n",
    "        x1.append(int((orframe[2]-orframe[1])/3))\n",
    "for orf in ecoliorfs:\n",
    "    x2.append(int((orf[2]-orf[1])/3))"
   ]
  },
  {
   "cell_type": "code",
   "execution_count": 45,
   "metadata": {},
   "outputs": [
    {
     "data": {
      "text/plain": [
       "99"
      ]
     },
     "execution_count": 45,
     "metadata": {},
     "output_type": "execute_result"
    }
   ],
   "source": [
    "len(quantiles(x1,n=100))"
   ]
  },
  {
   "cell_type": "code",
   "execution_count": 26,
   "metadata": {},
   "outputs": [
    {
     "ename": "NameError",
     "evalue": "name 'x1' is not defined",
     "output_type": "error",
     "traceback": [
      "\u001b[1;31m---------------------------------------------------------------------------\u001b[0m",
      "\u001b[1;31mNameError\u001b[0m                                 Traceback (most recent call last)",
      "Cell \u001b[1;32mIn[26], line 1\u001b[0m\n\u001b[1;32m----> 1\u001b[0m bacteria_threshold \u001b[38;5;241m=\u001b[39m quantiles(\u001b[43mx1\u001b[49m,n\u001b[38;5;241m=\u001b[39m\u001b[38;5;241m100\u001b[39m)[\u001b[38;5;241m98\u001b[39m]\n\u001b[0;32m      2\u001b[0m \u001b[38;5;66;03m# plot:\u001b[39;00m\n\u001b[0;32m      3\u001b[0m fig, ax \u001b[38;5;241m=\u001b[39m plt\u001b[38;5;241m.\u001b[39msubplots()\n",
      "\u001b[1;31mNameError\u001b[0m: name 'x1' is not defined"
     ]
    }
   ],
   "source": [
    "bacteria_threshold = quantiles(x1,n=100)[98]\n",
    "# plot:\n",
    "fig, ax = plt.subplots()\n",
    "X=[x1,x2]\n",
    "ax.hist(X, bins=50, histtype='bar', stacked=False)\n",
    "\n",
    "ax.set(xticks=np.arange(0, 1600, 200))\n",
    "ax.set_yscale('log')\n",
    "       \n",
    "plt.savefig('problem2-permutation.png')\n",
    "plt.show()"
   ]
  },
  {
   "cell_type": "code",
   "execution_count": 1,
   "metadata": {},
   "outputs": [],
   "source": [
    "bacteria_threshold=99.0"
   ]
  },
  {
   "cell_type": "code",
   "execution_count": 21,
   "metadata": {},
   "outputs": [],
   "source": [
    "from helper_functions import extract_gt_orfs\n",
    "tp=0\n",
    "thresh=0\n",
    "trueorfs=extract_gt_orfs(record, start_codons, stop_codons, verbose=False) \n",
    "for gene in ecoliorfs:\n",
    "    if (gene[2]-gene[1])>=bacteria_threshold:\n",
    "        thresh=thresh+1\n",
    "        if gene in trueorfs:\n",
    "            tp=tp+1\n",
    "precision=tp/thresh\n",
    "recall=tp/len(trueorfs)"
   ]
  },
  {
   "cell_type": "code",
   "execution_count": 22,
   "metadata": {},
   "outputs": [
    {
     "data": {
      "text/plain": [
       "0.4917269906928645"
      ]
     },
     "execution_count": 22,
     "metadata": {},
     "output_type": "execute_result"
    }
   ],
   "source": [
    "recall"
   ]
  },
  {
   "cell_type": "markdown",
   "metadata": {},
   "source": [
    "\n",
    "Is this a good threshold? As we said in the beginning, _E. coli_ is a well-studied organism, so we can easily evaluate our filtering proceedure with the ground truth. We can use many metrics to evaluate our accuracy, but here, we will focus on three: precision, recall, and the F1 score. Please consult Wikipedia if you aren't familiar with these metrics. To calculate each metric, we first have to apply our chosen threshold to our found ORFs, removing ORFs that are too short. Using the ground truth ORFs, we can then identify true positives, false positives, true negatives, and false negatives.\n",
    "\n",
    "**TASK:**\n",
    "\n",
    "**b)** Could a different threshold give better precision/recall/F1 scores? We can check! Generate a list of possible thresholds and compute precision/recall/F1 scores for each threshold. Plot all three metrics into a single figure. Clearly show the permutation test threshold. Is the threshold determined by the permutation test reasonable? Could we determine a better threshold? Clearly indicate the permutation threshold and your suggested threshold in the plot. Save the resulting figure to `problem2-proc.png`. Write down your observations and explain your threshold selection into the `bacteria_comments` variable (max. three sentences).\n",
    "\n",
    "**[5 points]**"
   ]
  },
  {
   "cell_type": "markdown",
   "metadata": {},
   "source": [
    "The true ORFs can be extracted from the Biopython record object using the provided `extract_gt_orfs` function in `helper_functions.py`."
   ]
  },
  {
   "cell_type": "code",
   "execution_count": 12,
   "metadata": {},
   "outputs": [
    {
     "name": "stdout",
     "output_type": "stream",
     "text": [
      "Extracting ORFs from NCBI annotation...\n",
      "3868 ground truth ORFs found\n"
     ]
    }
   ],
   "source": [
    "print(\"Extracting ORFs from NCBI annotation...\")\n",
    "orfs_gt = extract_gt_orfs(record, start_codons, stop_codons, verbose=False)\n",
    "print(f\"{len(orfs_gt)} ground truth ORFs found\")"
   ]
  },
  {
   "cell_type": "code",
   "execution_count": null,
   "metadata": {},
   "outputs": [],
   "source": [
    "from helper_functions import extract_gt_orfs\n",
    "threshold_candidates=[0,20,50,70,80,90,100,120,150]\n",
    "PREC=[]\n",
    "REC=[]\n",
    "trueorfs=extract_gt_orfs(record, start_codons, stop_codons, verbose=False) \n",
    "for pos_threshold in threshold_candidates:\n",
    "    tp=0\n",
    "    thresh=0\n",
    "    for gene in ecoliorfs:\n",
    "        if (gene[2]-gene[1])>=pos_threshold:\n",
    "            thresh=thresh+1\n",
    "            if gene in trueorfs:\n",
    "                tp=tp+1\n",
    "    precision=tp/thresh\n",
    "    recall=tp/len(trueorfs)\n",
    "    PREC.append(precision)\n",
    "    REC.append(recall)"
   ]
  },
  {
   "cell_type": "code",
   "execution_count": 18,
   "metadata": {},
   "outputs": [
    {
     "data": {
      "image/png": "[encoded data removed]",
      "text/plain": [
       "<Figure size 640x480 with 1 Axes>"
      ]
     },
     "metadata": {},
     "output_type": "display_data"
    }
   ],
   "source": [
    "fig, ax = plt.subplots()\n",
    "ax.plot(threshold_candidates,PREC)\n",
    "ax.plot(threshold_candidates, REC)\n",
    "       \n",
    "plt.savefig('problem2-proc.png')\n",
    "plt.show()"
   ]
  },
  {
   "cell_type": "code",
   "execution_count": 19,
   "metadata": {},
   "outputs": [],
   "source": [
    "bacteria_comments = \"\"\"\n",
    "Does the permutation test threshold make sense? Yes, it appears to be a solid compromise between recall and precision.\n",
    "Is there a better threshold we might use?\n",
    "Can we apply this to the SARS-CoV-2 genome? \n",
    "\"\"\""
   ]
  },
  {
   "cell_type": "markdown",
   "metadata": {},
   "source": [
    "# SARS-CoV-2\n",
    "\n",
    "SARS-CoV-2 is the prolific virus that causes the COVID-19 disease. We am sure most of you are well aware of what the disease does, so we'll skip any long-winded introduction. Instead, we'll jump straight into the genome of this pesky little virus.\n",
    "\n",
    "![](https://www.klinika-golnik.si/storage/_sites/golnik/app/media/Novice/cov-19.jpg)"
   ]
  },
  {
   "cell_type": "markdown",
   "metadata": {},
   "source": [
    "## Problem 3: SARS-CoV-2 gene candidates\n",
    "\n",
    "Having convinced ourselves sufficiently that our gene-candidate-finding procedure produces reasonable results, we can now turn our attention to the SARS-CoV-2 genome, which can be found in `data/sars_cov_2.txt`. Remember, we have no ground truth annotations about SARS-CoV-2 from NCBI, so it's up to you to find potential gene candidates and try to determine what each gene does.\n",
    "\n",
    "**TASK:**\n",
    "Run your ORF finder on the SARS-CoV-2 genome. Again, using a permutation test with 100 repetitions, determine a threshold for ORF lengths such that we keep only sequences with $p < 0.01$. Plot the distribution of ORF lengths in the random sequences and overlay this with your ORF lengths. Clearly show the permutation test threshold. Save your plot to `problem3.png`. Save your threshold into the `covid_threshold` variable.\n",
    "\n",
    "**[5 points]**"
   ]
  },
  {
   "cell_type": "code",
   "execution_count": 16,
   "metadata": {},
   "outputs": [],
   "source": [
    "start_codons = [\"ATG\"]\n",
    "stop_codons = [\"TGA\", \"TAA\", \"TAG\"]"
   ]
  },
  {
   "cell_type": "code",
   "execution_count": 12,
   "metadata": {},
   "outputs": [],
   "source": [
    "from Bio.Seq import Seq\n",
    "sequence=Seq('')\n",
    "with open('data\\\\sars_cov_2.txt') as f:\n",
    "    for line in f:\n",
    "        sequence= sequence+line\n",
    "covorfs=find_all_orfs(sequence,start_codons,stop_codons)"
   ]
  },
  {
   "cell_type": "code",
   "execution_count": null,
   "metadata": {},
   "outputs": [],
   "source": [
    "rdcov=MutableSeq(sequence)\n",
    "randcovorfs=[]\n",
    "x1=[]\n",
    "x2=[]\n",
    "for i in range (0,100):\n",
    "    shuffle(rdcov)\n",
    "    randcovorfs.append(find_all_orfs(rdcov,start_codons,stop_codons))\n",
    "for permutation in randcovorfs:\n",
    "    for orframe in permutation:\n",
    "        x1.append(int((orframe[2]-orframe[1])/3))\n",
    "for orf in covorfs:\n",
    "    x2.append(int((orf[2]-orf[1])/3))\n",
    "covid_threshold = quantiles(x1,n=100)[98]\n",
    "# plot:\n",
    "fig, ax = plt.subplots()\n",
    "X=[x1,x2]\n",
    "ax.hist(X, bins=100, histtype='bar', stacked=False)\n",
    "\n",
    "ax.set(xticks=np.arange(0, 5000, 500))\n",
    "ax.set_yscale('log')\n",
    "       \n",
    "plt.savefig('problem3.png')\n",
    "plt.show()"
   ]
  },
  {
   "cell_type": "code",
   "execution_count": 16,
   "metadata": {},
   "outputs": [],
   "source": [
    "covid_threshold=70"
   ]
  },
  {
   "cell_type": "markdown",
   "metadata": {},
   "source": [
    "## Problem 4: Determining gene functionality from amino acid sequence\n",
    "\n",
    "Okay, so we've found and filtered down our gene candidates, but now what? The next step is to figure out what these genes might do. So, what _do_ these genes do? Well, nothing by themselves. If DNA is the cookbook, then the genes are the recipes. They tell us how to prepare each dish. Recipes by themselves are nothing but information. It is the actual dishes we care about: the proteins. It is the proteins that actually _do_ things inside our cells.\n",
    "\n",
    "An organism can read codons in ORFs (hence open-READING-frame) and translate the language of codons into amino acids. Codons in a DNA sequence are translated into amino acids consecutively, forming a long chain. The amino acid chain folds into a macromolecule called protein (as shown in the picture below). Their 3D structure is crucial for their function.\n",
    "We can predict protein characteristics from the amino acid sequence, such as their location in a cell. However, for a more concrete prediction of the functionality, we would have to use more sophisticated approaches, such as BLAST or AlphaFold.\n",
    "\n",
    "![](https://upload.wikimedia.org/wikipedia/commons/thumb/a/a9/Protein_folding.png/360px-Protein_folding.png)\n",
    "\n",
    "**Intro to hydrophobicity**\n",
    "\n",
    "The hydrophobicity of an amino acid is its tendency to repel water molecules. These amino acids tend to stick together in a non-polar environment. One well-known example of hydrophobicity is the lipid membrane of cells. This hydrophobic cell membrane ensures that the environment outside the cell (water and anything inside that water) stays outside, and all the important bits of the cell (e.g., the mitochondria, nucleus, ribosomes) stay inside the cell.\n",
    "\n",
    "![](https://i.pinimg.com/originals/5f/44/ac/5f44ac7665a7c003342dca018ce23077.jpg)\n",
    "\n",
    "Hydrophilic proteins cannot pass through the hydrophobic membrane since its hydrophobic interior will repel them, but hydrophobic proteins can sit happily embedded inside the membrane. These hydrophobic proteins are called _transmembrane_ proteins. Transmembrane proteins typically function as transport channels between the interior and exterior of the cell and enable cell signaling and absorption. In the case of viruses, e.g., SARS-CoV-2, we expect at least some proteins to be embedded in the viral membrane. For instance, SARS-CoV-2 viruses can only enter human cells when the spike protein that sticks out on the exterior of the virus binds to a specific receptor in human cells.\n",
    "\n",
    "![](https://o.quizlet.com/qBs-A5bu4m1ZI4IdWv1OUA_b.png)\n",
    "\n",
    "Transmembrane proteins usually contain more hydrophobic amino acids than other proteins because their environment is a strictly hydrophobic lipid membrane. Therefore, one naive approach to finding transmembrane proteins might be to look for proteins with a high degree of hydrophobicity.\n",
    "\n",
    "\n",
    "The less-biological explanation of all this might be that the little, yellow hydrophobic tails of the lipids in the membrane attract each other because they are all hydrophobic. They can also attract proteins, provided that the amino acids inside that protein are also hydrophobic. The little hydrophobic tails also repel anything hydrophilic, so hydrophilic proteins can't pass through the hydrophobic membrane. So, simply put, hydrophobic molecules attract other hydrophobic molecules and repel any hydrophilic molecules. Finally, hydrophobic molecules repel water, while hydrophilic molecules are drawn toward water."
   ]
  },
  {
   "cell_type": "markdown",
   "metadata": {},
   "source": [
    "**TASK**:\n",
    "\n",
    "**a)** Implement the `translate_to_protein` function in `helper_functions.py`. Do not use Biopython for this in this homework -- we want you to implement this yourself. Stop codons should translate into an empty string (\"\").\n",
    "\n",
    "**[5 points]**\n",
    "\n",
    "**b)** Translate the ground truth ORFs from _E. coli_ and calculate the average hydrophobicity of these proteins. Use the function `extract_gt_orfs` from `helper_functions.py` with parameter `validate=False` to extract all available genes. For each protein, calculate the average protein hydrophobicity. The average protein hydrophobicity is calculated as the average hydrophobicity of all amino acids in the protein sequence. You can find the hydrophobicity values for each amino acid in `data/aa_hydrophobicity.csv`.\n",
    "\n",
    "Similarly, find, filter, and translate the ORFs (found with your ORF finder and filtered according to the permutation test threshold) in the SARS-CoV-2 genome and calculate the average hydrophobicity of these proteins.\n",
    "\n",
    "Plot the distribution of the average hydrophobicities for all _E. coli_ proteins. Overlay the histogram with a scatter plot of the hydrophobicity values of your protein candidates found in the SARS-CoV-2 genome. Save the resulting figure to `problem4.png`.\n",
    "\n",
    "Inspect the distribution of the bacterial proteins. Are there proteins that seem to have a larger hydrophobicity than others? If so, these would probably be good candidates for transmembrane proteins. Compare these to the hydrophobicities of the SARS-CoV-2 proteins. Are there any proteins in the SARS-CoV-2 genome that we could classify as transmembrane proteins just by referencing the distribution of bacterial proteins? If so, save the ORFs you think may correspond to transmembrane proteins to the `transmembrane_candidates` variable. Explain your reasoning in the `transmembrane_comments` variable.\n",
    "\n",
    "**[10 points]**"
   ]
  },
  {
   "cell_type": "code",
   "execution_count": 13,
   "metadata": {},
   "outputs": [],
   "source": [
    "from helper_functions import *\n",
    "from statistics import mean\n",
    "hyd={}\n",
    "with open('data\\\\aa_hydrophobicity.csv') as f:\n",
    "    for line in f:\n",
    "        templine=line.split(',')\n",
    "        if len(templine[0])==1:\n",
    "            hyd[templine[0]]=float(templine[1])"
   ]
  },
  {
   "cell_type": "code",
   "execution_count": 27,
   "metadata": {},
   "outputs": [
    {
     "data": {
      "image/png": "[encoded data removed]",
      "text/plain": [
       "<Figure size 640x480 with 1 Axes>"
      ]
     },
     "metadata": {},
     "output_type": "display_data"
    },
    {
     "data": {
      "image/png": "[encoded data removed]",
      "text/plain": [
       "<Figure size 640x480 with 1 Axes>"
      ]
     },
     "metadata": {},
     "output_type": "display_data"
    }
   ],
   "source": [
    "trueorfs=extract_gt_orfs(record, start_codons, stop_codons, verbose=False)\n",
    "dset=[]\n",
    "virset=[]\n",
    "norm=[]\n",
    "transmembrane_candidates=[]\n",
    "for orf in trueorfs:\n",
    "    if (orf[2]-orf[1])>=bacteria_threshold:\n",
    "        x=[]\n",
    "        protein=translate_to_protein(record.seq[orf[1]:orf[2]])\n",
    "        for aa in protein:\n",
    "            x.append(hyd[aa])\n",
    "        dset.append(mean(x))\n",
    "for orf in covorfs:\n",
    "    if (orf[2]-orf[1])>=covid_threshold:\n",
    "        x=[]\n",
    "        protein=translate_to_protein(sequence[orf[1]:orf[2]])\n",
    "        for aa in protein:\n",
    "            x.append(hyd[aa])\n",
    "        virset.append(mean(x))\n",
    "        if mean(x)>0.99:\n",
    "            transmembrane_candidates.append(orf)\n",
    "for el in virset:\n",
    "    norm.append(1)\n",
    "fig, ax = plt.subplots()\n",
    "ax.hist(dset, bins=100, histtype='bar')\n",
    "plt.savefig('problem4a.png')\n",
    "fig, bx = plt.subplots()\n",
    "\n",
    "bx.scatter(virset, norm)\n",
    "       \n",
    "plt.savefig('problem4b.png')\n",
    "plt.show()"
   ]
  },
  {
   "cell_type": "code",
   "execution_count": 28,
   "metadata": {},
   "outputs": [
    {
     "data": {
      "text/plain": [
       "[(-1, 26180, 26342),\n",
       " (-1, 20843, 21038),\n",
       " (-1, 17978, 18185),\n",
       " (-1, 17978, 18173),\n",
       " (-1, 17978, 18164),\n",
       " (-1, 16199, 16295),\n",
       " (-1, 13697, 13769),\n",
       " (-1, 10754, 10856),\n",
       " (-1, 28015, 28105)]"
      ]
     },
     "execution_count": 28,
     "metadata": {},
     "output_type": "execute_result"
    }
   ],
   "source": [
    "transmembrane_candidates"
   ]
  },
  {
   "cell_type": "code",
   "execution_count": 20,
   "metadata": {},
   "outputs": [],
   "source": [
    "transmembrane_comments = \"\"\"As the E.coli plot shows a small peak of proteins in and around an average hydrophobicity of 1.0, it would be assumed those to be the transmembrane ones. As such, I've saved those gene candidates in that range.\n",
    "\"\"\""
   ]
  },
  {
   "cell_type": "markdown",
   "metadata": {},
   "source": [
    "## Bonus problem: Visualizing ORF candidates\n",
    "\n",
    "You may have noticed in problem 2 that even when keeping all the genes, our recall was well below 1. This means that even without any filtering, we weren't able to find all the ORFs that are actually genes. The reason for this is that we defined ORFs to be the longest contiguous sequence of codons between a start and a stop codon. This is a simplification of what really happens in biology. Not all start codons actually determine the beginning of a coding (gene) sequence. ORFs themselves can contain start codons since the ATG codon itself codes for Methionine. To be completely thorough, each start codon should start its own ORF.\n",
    "\n",
    "In this exercise, we will define an ORF to be **any** contiguous sequence of codons between a start and a stop codon. For instance, ATGAAAATGAAATGA now contains two ORFs: ATGAAAATGAAATGA and ATGAAATGA.\n",
    "\n",
    "**TASK**: Implement the `find_all_orfs_nested` function in `helper_functions.py`, following the above definition of an ORF. Visualize where on the genome the ORF candidates are found. Save your plot to `problem-orf-viz.png`.\n",
    "\n",
    "You can look at this image for a general direction: https://www.ncbi.nlm.nih.gov/nuccore/NC_002549.1?report=graph. You don't need to worry about optimizing the layout -- putting each ORF candidate in its own row is fine. Kudos if you do optimize the layout, though :) If you have a different idea for the visualization, that's even better. Feel free to apply any kind of filtering to the ORFs in your plot.\n",
    "\n",
    " **[5 points]**"
   ]
  },
  {
   "cell_type": "code",
   "execution_count": null,
   "metadata": {},
   "outputs": [],
   "source": []
  },
  {
   "cell_type": "markdown",
   "metadata": {},
   "source": [
    "## Bonus problem: How big are viruses?\n",
    "\n",
    "How does SARS-CoV-2 compare to other viruses? Is it a small virus or a large virus? We can't really say without a reference. Thankfully, NCBI has us covered. NCBI Virus is a subset of NCBI dedicated only to viral sequences. To determine the size of SARS-CoV-2, we'll download a bunch of viral sequences and compare the lengths of their genomes. We could also compare other things, e.g., the number of genes, but it's sufficient to compare the sequence lengths for this homework.\n",
    "\n",
    "**TASK**: Download all virus genome metadata from [NCBI Virus](https://www.ncbi.nlm.nih.gov/labs/virus/vssi/#/virus). There are between 10,000 to 15,000 of them (you don't need to download the full 10GB of sequence data for this exercise). Create an informative visualization of the distribution of virus sequence lengths. Clearly indicate the length of the SARS-CoV-2 virus.\n",
    "\n",
    "In a single figure, answer the following questions. Split your figure into three subplots, one for each question:\n",
    "1. Is SARS-CoV-2 long compared to other human viruses?\n",
    "2. Is SARS-CoV-2 long compared to other RNA viruses (all variants, all species)?\n",
    "3. Are RNA bacterial viruses (phages) common?\n",
    "\n",
    "Copy the question and include a _Yes/No_ answer in the plot using the matplotlib [`text`](https://matplotlib.org/stable/api/_as_gen/matplotlib.axes.Axes.text.html) function. Save your plot to `problem-virus-size.png`.\n",
    "\n",
    "Think about the following questions: is the number of DNA vs the number of RNA viruses? Which are more prevalent? Are one kind of virus typically longer than other types of viruses? Where do other viruses fall in this distribution? Some potentially interesting viruses might be SARS and MERS (we heard that SARS-CoV-2 is closely related to those two), ebola, HIV, the common cold, hepatitis a/b/c, ... Save your answers in the `virus_size_comments` variable. Be as brief as possible.\n",
    "\n",
    "**[5 points]**"
   ]
  },
  {
   "cell_type": "code",
   "execution_count": 21,
   "metadata": {},
   "outputs": [],
   "source": [
    "virus_size_comments = \"\"\"\n",
    "Did you notice anything interesting?\n",
    "\"\"\""
   ]
  }
 ],
 "metadata": {
  "kernelspec": {
   "display_name": "Python 3 (ipykernel)",
   "language": "python",
   "name": "python3"
  },
  "language_info": {
   "codemirror_mode": {
    "name": "ipython",
    "version": 3
   },
   "file_extension": ".py",
   "mimetype": "text/x-python",
   "name": "python",
   "nbconvert_exporter": "python",
   "pygments_lexer": "ipython3",
   "version": "3.12.0"
  }
 },
 "nbformat": 4,
 "nbformat_minor": 4
}
